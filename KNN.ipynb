{
  "cells": [
    {
      "cell_type": "code",
      "execution_count": null,
      "metadata": {
        "id": "jIcjLBzk7u9C"
      },
      "outputs": [],
      "source": [
        "import numpy as np\n",
        "import matplotlib.pyplot as plt"
      ]
    },
    {
      "cell_type": "code",
      "execution_count": null,
      "metadata": {
        "colab": {
          "base_uri": "https://localhost:8080/",
          "height": 283
        },
        "id": "Fv8vywWb7u9P",
        "outputId": "b7186bfb-870e-49bc-a31d-a35f3209b603"
      },
      "outputs": [
        {
          "data": {
            "text/plain": [
              "[<matplotlib.lines.Line2D at 0x29b67613c70>]"
            ]
          },
          "execution_count": 2,
          "metadata": {},
          "output_type": "execute_result"
        },
        {
          "data": {
            "image/png": "[encoded data removed]",
            "text/plain": [
              "<Figure size 432x288 with 1 Axes>"
            ]
          },
          "metadata": {
            "needs_background": "light"
          },
          "output_type": "display_data"
        }
      ],
      "source": [
        "X=np.array([[0.5,1.5],[0.55,1.8],[0.6,1.9],[0.65,2.2],[1.5,4.5],[1.55,4.8],[1.6,4.9],[1.65,4.2]])\n",
        "X_test=np.array([[0.8,3.2]])\n",
        "Y=[1,1,1,1,0,0,0,0]\n",
        "plt.plot(X[:,0],X[:,1],'.r')\n",
        "plt.plot(X_test[:,0],X_test[:,1],'+b')"
      ]
    },
    {
      "cell_type": "code",
      "execution_count": null,
      "metadata": {
        "colab": {
          "base_uri": "https://localhost:8080/"
        },
        "id": "UtP54EHS7u9V",
        "outputId": "0ab58f26-6393-4adf-b19b-61ff9259f408"
      },
      "outputs": [
        {
          "data": {
            "text/plain": [
              "[(1.0111874208078342, 1),\n",
              " (1.3124404748406686, 0),\n",
              " (1.315294643796591, 1),\n",
              " (1.4221462653327894, 1),\n",
              " (1.4764823060233399, 0),\n",
              " (1.726267650163207, 1),\n",
              " (1.7670597047072287, 0),\n",
              " (1.8788294228055937, 0)]"
            ]
          },
          "execution_count": 3,
          "metadata": {},
          "output_type": "execute_result"
        }
      ],
      "source": [
        "distance=[]\n",
        "for data in range(len(X)):\n",
        "    dis=(np.linalg.norm(X[data]-X_test))\n",
        "    idx=Y[data]\n",
        "    distance.append((dis,idx))\n",
        "distance.sort()\n",
        "distance"
      ]
    },
    {
      "cell_type": "code",
      "execution_count": null,
      "metadata": {
        "id": "BFjb5uEU7u9Y"
      },
      "outputs": [],
      "source": [
        "k=3\n",
        "pos=[]\n",
        "for i in range(k):\n",
        "    pos.append(distance[i][1])\n",
        "no_of_zero=pos.count(0)\n",
        "no_of_one=pos.count(1)"
      ]
    },
    {
      "cell_type": "code",
      "execution_count": null,
      "metadata": {
        "colab": {
          "base_uri": "https://localhost:8080/"
        },
        "id": "Moshktdi7u9a",
        "outputId": "ec86a1e5-dd18-4248-8098-4af49c7f62de"
      },
      "outputs": [
        {
          "name": "stdout",
          "output_type": "stream",
          "text": [
            "its belogs to class 1\n"
          ]
        }
      ],
      "source": [
        "if(no_of_one>no_of_zero):\n",
        "    print(\"its belogs to class 1\")\n",
        "else:\n",
        "    print(\"its belogs to class 0\")"
      ]
    },
    {
      "cell_type": "code",
      "execution_count": null,
      "metadata": {
        "id": "CsUNaVFr7u9c"
      },
      "outputs": [],
      "source": [
        "def KNN(X,Y,X_test):\n",
        "    index=[]\n",
        "    distance=[]\n",
        "    for j in range(len(test)):\n",
        "    \n",
        "        for data in range(len(X)):\n",
        "            dis=(np.linalg.norm(X[data]-X_test[j]))\n",
        "            idx=Y[data]\n",
        "            distance.append((dis,idx))\n",
        "        distance.sort()\n",
        "        k=3\n",
        "        pos=[]\n",
        "        for i in range(k):\n",
        "            pos.append(distance[i][1])\n",
        "        no_of_zero=pos.count(0)\n",
        "        no_of_one=pos.count(1)\n",
        "        if(no_of_one>no_of_zero):\n",
        "            index.append(1)\n",
        "        else:\n",
        "            index.append(0)\n",
        "    return index"
      ]
    },
    {
      "cell_type": "code",
      "execution_count": null,
      "metadata": {
        "colab": {
          "base_uri": "https://localhost:8080/",
          "height": 283
        },
        "id": "kMpMBYis7u9f",
        "outputId": "cb5490bc-b8bc-4079-ee86-5c4ed1256277"
      },
      "outputs": [
        {
          "data": {
            "text/plain": [
              "[<matplotlib.lines.Line2D at 0x29b6973ca00>]"
            ]
          },
          "execution_count": 7,
          "metadata": {},
          "output_type": "execute_result"
        },
        {
          "data": {
            "image/png": "[encoded data removed]",
            "text/plain": [
              "<Figure size 432x288 with 1 Axes>"
            ]
          },
          "metadata": {
            "needs_background": "light"
          },
          "output_type": "display_data"
        }
      ],
      "source": [
        "X_=np.array([[2.5,1.5],[2.55,1.8],[2.6,1.9],[2.65,2.2],[3.5,4.5],[3.55,4.8],[3.6,4.9],[3.65,4.2]])\n",
        "Y_=[1,1,1,1,0,0,0,0]\n",
        "plt.plot(X_[:,0],X_[:,1],'.r')"
      ]
    },
    {
      "cell_type": "code",
      "execution_count": null,
      "metadata": {
        "colab": {
          "base_uri": "https://localhost:8080/"
        },
        "id": "u413Crgj7u9i",
        "outputId": "38119e73-0c97-439d-cab5-57555e449964"
      },
      "outputs": [
        {
          "name": "stdout",
          "output_type": "stream",
          "text": [
            "Actual Data of Y :  [1 1 0 1 1 1 0]\n",
            "Predict Data of Y :  [1, 1, 0, 1, 1, 1, 0]\n"
          ]
        }
      ],
      "source": [
        "test=np.array([[0.8,3.2],[1.5,3.2],[4.5,3.6],[3.2,2.5],[4,3.6],[2,5.6],[3,5]])\n",
        "Y_actual=np.array([1, 1, 0, 1, 1, 1, 0])\n",
        "y_test=KNN(X_,Y_,test)\n",
        "print(\"Actual Data of Y : \",Y_actual)\n",
        "print(\"Predict Data of Y : \",y_test)"
      ]
    },
    {
      "cell_type": "code",
      "execution_count": null,
      "metadata": {
        "id": "lPD-s_UQ7u9l"
      },
      "outputs": [],
      "source": [
        "def KNN(X,Y,X_test):\n",
        "    index_list=[]\n",
        "    distance=[]\n",
        "    for j in range(len(test)):\n",
        "        index=[]\n",
        "        for data in range(len(X)):\n",
        "            dis=(np.linalg.norm(X[data]-X_test[j]))\n",
        "            idx=Y[data]\n",
        "            distance.append((dis,idx))\n",
        "        distance.sort()\n",
        "        for a in range(1,len(X)+1):\n",
        "#             index=[]\n",
        "            k=a\n",
        "            pos=[]\n",
        "            for i in range(k):\n",
        "                pos.append(distance[i][1])\n",
        "            no_of_zero=pos.count(0)\n",
        "            no_of_one=pos.count(1)\n",
        "            if(no_of_one>no_of_zero):\n",
        "                index.append(1)\n",
        "            else:\n",
        "                index.append(0)\n",
        "        index_list.append(index)\n",
        "    return index_list"
      ]
    },
    {
      "cell_type": "code",
      "execution_count": null,
      "metadata": {
        "colab": {
          "base_uri": "https://localhost:8080/"
        },
        "id": "nLTclbWj7u9o",
        "outputId": "2a294f46-750f-4917-ede3-e1c890f4ba73"
      },
      "outputs": [
        {
          "data": {
            "text/plain": [
              "[[1, 1, 1, 1, 1, 1, 1, 0],\n",
              " [1, 1, 1, 1, 1, 1, 1, 1],\n",
              " [1, 1, 1, 1, 1, 1, 1, 1],\n",
              " [1, 1, 1, 1, 1, 1, 1, 1],\n",
              " [0, 0, 1, 1, 1, 1, 1, 1],\n",
              " [0, 0, 0, 0, 1, 1, 1, 1],\n",
              " [0, 0, 0, 0, 0, 0, 1, 1],\n",
              " [0, 0, 0, 0, 0, 0, 0, 0]]"
            ]
          },
          "execution_count": 10,
          "metadata": {},
          "output_type": "execute_result"
        }
      ],
      "source": [
        "X=np.array([[0.5,1.5],[0.55,1.8],[0.6,1.9],[0.65,2.2],[1.5,4.5],[1.55,4.8],[1.6,4.9],[1.65,4.2]])\n",
        "Y=np.array([1,1,1,1,0,0,0,0])\n",
        "\n",
        "test=np.array([[0.5,1.5],[0.55,1.8],[0.6,1.9],[0.65,2.2],[1.5,4.5],[1.55,4.8],[1.6,4.9],[1.65,4.2]])\n",
        "\n",
        "y_train=KNN(X,Y,test)\n",
        "y_train"
      ]
    },
    {
      "cell_type": "code",
      "execution_count": null,
      "metadata": {
        "id": "IZe-aSBr7u9r"
      },
      "outputs": [],
      "source": [
        "Y=Y.T\n",
        "subY=y_train-Y"
      ]
    },
    {
      "cell_type": "code",
      "execution_count": null,
      "metadata": {
        "colab": {
          "base_uri": "https://localhost:8080/"
        },
        "id": "knBfiHnR7u9s",
        "outputId": "abd7a1c6-377f-43c8-e811-8df31a35c225"
      },
      "outputs": [
        {
          "name": "stdout",
          "output_type": "stream",
          "text": [
            "[2.0, 2.0, 1.7320508075688772, 1.7320508075688772, 2.449489742783178, 2.449489742783178, 2.6457513110645907, 2.449489742783178]\n"
          ]
        }
      ],
      "source": [
        "dista=[]\n",
        "for i in range(len(Y)):\n",
        "    dist=np.linalg.norm(subY[:,i])\n",
        "    dista.append(dist)\n",
        "print(dista)"
      ]
    },
    {
      "cell_type": "code",
      "execution_count": null,
      "metadata": {
        "colab": {
          "base_uri": "https://localhost:8080/",
          "height": 283
        },
        "id": "P0qd77aM7u9u",
        "outputId": "5c55f986-b81a-44b6-8dba-9967287f44d4"
      },
      "outputs": [
        {
          "data": {
            "text/plain": [
              "[<matplotlib.lines.Line2D at 0x29b6978ffd0>]"
            ]
          },
          "execution_count": 13,
          "metadata": {},
          "output_type": "execute_result"
        },
        {
          "data": {
            "image/png": "[encoded data removed]",
            "text/plain": [
              "<Figure size 432x288 with 1 Axes>"
            ]
          },
          "metadata": {
            "needs_background": "light"
          },
          "output_type": "display_data"
        }
      ],
      "source": [
        "plt.plot(dista)"
      ]
    }
  ],
  "metadata": {
    "colab": {
      "provenance": []
    },
    "kernelspec": {
      "display_name": "Python 3",
      "language": "python",
      "name": "python3"
    },
    "language_info": {
      "codemirror_mode": {
        "name": "ipython",
        "version": 3
      },
      "file_extension": ".py",
      "mimetype": "text/x-python",
      "name": "python",
      "nbconvert_exporter": "python",
      "pygments_lexer": "ipython3",
      "version": "3.10.4"
    }
  },
  "nbformat": 4,
  "nbformat_minor": 0
}